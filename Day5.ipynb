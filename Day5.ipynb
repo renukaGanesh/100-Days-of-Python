{
 "cells": [
  {
   "cell_type": "markdown",
   "id": "e8133492",
   "metadata": {},
   "source": [
    "### DAY 5 - 100 DAYS OF PYTHON"
   ]
  },
  {
   "cell_type": "code",
   "execution_count": null,
   "id": "f0866b33",
   "metadata": {},
   "outputs": [],
   "source": [
    "#LOOPS - tHINGS THAT HAS TO OPEN OVER AND OVER AGAIN\n",
    "#FOR LOOP\n",
    "fruits = [\"Apple\", \"Peach\",\"Pear\"]\n",
    "\n",
    "for fruit in fruits:\n",
    "    print(fruit)   #intendation is very important\n",
    "    print(fruit + \"pie\")\n",
    " "
   ]
  },
  {
   "cell_type": "code",
   "execution_count": null,
   "id": "93c1bbf1",
   "metadata": {},
   "outputs": [],
   "source": [
    "#problem 1 - Average Height Excercise\n",
    "Heights = input(\"Enter the height with a comma seperated values : \")\n",
    "student_height = Heights.split()\n",
    "total_count = len(student_height)\n",
    "sum = 0\n",
    "for i in student_height:\n",
    "    sum = sum+ int(i)\n",
    "average =sum/total_count\n",
    "print(\"Average height is {}\".format(round(average)))\n",
    "    "
   ]
  },
  {
   "cell_type": "code",
   "execution_count": null,
   "id": "5ad468c8",
   "metadata": {},
   "outputs": [],
   "source": [
    "len(student_height)"
   ]
  },
  {
   "cell_type": "code",
   "execution_count": null,
   "id": "152ae4a3",
   "metadata": {},
   "outputs": [],
   "source": [
    "#high score  -  Problem 2\n",
    "\n",
    "\n",
    "student_scores = input(\"enter the scores with comma seperated values\")\n",
    "scores_list = student_scores.split()\n",
    "\n",
    "lst =[]\n",
    "highest_score = 0\n",
    "for i in scores_list:\n",
    "    #print(int(i))\n",
    "    lst.append(int(i))\n",
    "  \n",
    "    for i in lst:\n",
    "        if i > highest_score:\n",
    "            highest_score =i\n",
    "print(\"highest_score is {}\".format(highest_score))        \n",
    "    \n",
    "    \n",
    "\n",
    "        \n",
    "    \n",
    "\n",
    "\n",
    "\n",
    "\n",
    "    \n",
    "\n"
   ]
  },
  {
   "cell_type": "code",
   "execution_count": null,
   "id": "a7d6e5c7",
   "metadata": {},
   "outputs": [],
   "source": [
    "#loop and Range\n",
    "sum = 0\n",
    "for i in range(1,101):\n",
    "    print(i)\n",
    "    sum = sum+i\n",
    "print(sum)    \n",
    "    "
   ]
  },
  {
   "cell_type": "code",
   "execution_count": null,
   "id": "07eb5a98",
   "metadata": {},
   "outputs": [],
   "source": [
    "# to calculate sum of even and odd numbers with in the rabge (1,100)\n",
    "even_sum = 0\n",
    "for i in range(0,101,2):\n",
    "    even_sum+=i\n",
    "print(\"The evn sum is {}\".format(even_sum))   \n",
    "\n",
    "\n"
   ]
  },
  {
   "cell_type": "code",
   "execution_count": null,
   "id": "9b0d1cbe",
   "metadata": {},
   "outputs": [],
   "source": [
    "#odd\n",
    "odd_sum = 0\n",
    "for i in range(1,101,2):\n",
    "    odd_sum+=i\n",
    "print(\"The odd numbers sum is {}.\".format(odd_sum))    "
   ]
  },
  {
   "cell_type": "code",
   "execution_count": null,
   "id": "65e985ae",
   "metadata": {},
   "outputs": [],
   "source": [
    "#another method\n"
   ]
  },
  {
   "cell_type": "code",
   "execution_count": null,
   "id": "8f79226b",
   "metadata": {},
   "outputs": [],
   "source": [
    "even_sum = 0\n",
    "odd_sum = 0\n",
    "for i in range(1,101):\n",
    "    if i % 2==0:\n",
    "        even_sum+=i\n",
    "    else:\n",
    "        odd_sum+=i\n",
    "print(\"even sum is {}\".format(even_sum))     \n",
    "print(\"odd sum is {}\".format(odd_sum)) "
   ]
  },
  {
   "cell_type": "code",
   "execution_count": null,
   "id": "d8923583",
   "metadata": {},
   "outputs": [],
   "source": [
    "#fizzbuzz problem\n",
    "for number in range(1,101):\n",
    "    if number % 3 ==0 and number % 5 ==0:\n",
    "        print(\"FizzBuzz\")    \n",
    "    elif number%3 ==0:\n",
    "        print(\"Fizz\")\n",
    "    elif number% 5 ==0:\n",
    "        print(\"Buzz\")\n",
    "    else:\n",
    "        print(number)"
   ]
  },
  {
   "cell_type": "markdown",
   "id": "2329cd03",
   "metadata": {},
   "source": [
    "#### Day 5  - Project\n",
    "\n",
    "password generator\n"
   ]
  },
  {
   "cell_type": "code",
   "execution_count": 28,
   "id": "6c53a4a2",
   "metadata": {},
   "outputs": [
    {
     "name": "stdout",
     "output_type": "stream",
     "text": [
      "How many letters you would like to be your password4\n",
      "how many symbols you want to be in your password5\n",
      "how many numbers you need in your password3\n",
      "Your password of your choice is bRdv()(!%946\n",
      "['J', 'p', 'u', 'y', '$', '&', '+', '&', '!', '0', '3', '0']\n",
      "['&', '+', 'y', 'J', '!', '3', '$', '&', 'u', '0', 'p', '0']\n",
      "&+yJ!3$&u0p0"
     ]
    }
   ],
   "source": [
    "import random\n",
    "\n",
    "letters = ['a', 'b', 'c', 'd', 'e', 'f', 'g', 'h', 'i', 'j', 'k', 'l', 'm', 'n', 'o', 'p', 'q', 'r', 's', 't', 'u', 'v', 'w', 'x', 'y', 'z', 'A', 'B', 'C', 'D', 'E', 'F', 'G', 'H', 'I', 'J', 'K', 'L', 'M', 'N', 'O', 'P', 'Q', 'R', 'S', 'T', 'U', 'V', 'W', 'X', 'Y', 'Z']\n",
    "numbers = ['0', '1', '2', '3', '4', '5', '6', '7', '8', '9']\n",
    "symbols = ['!', '#', '$', '%', '&', '(', ')', '*', '+']\n",
    "\n",
    "print(\"welcome to password generator\")\n",
    "no_letters = int(input(\"How many letters you would like to be your password\"))\n",
    "no_symbols = int(input(\"how many symbols you want to be in your password\"))\n",
    "no_numbers = int(input(\"how many numbers you need in your password\"))\n",
    "\n",
    "#easy half\n",
    "password =''\n",
    "\n",
    "\n",
    "for char in range(0,no_letters):\n",
    "    random_letters= random.choice(letters)\n",
    "    password+=random_letters\n",
    "    \n",
    "for char in range(0,no_symbols) :\n",
    "    random_symbols = random.choice(symbols)\n",
    "    password+= random_symbols\n",
    "for char in range(0,no_numbers):\n",
    "    random_numbers =  random.choice(numbers)\n",
    "    password = password+random_numbers\n",
    "    \n",
    "print(\"Your password of your choice is {}\".format(password))    \n",
    "    \n",
    "\n",
    "\n",
    "\n",
    "#hard half\n",
    "pwd = []\n",
    "\n",
    "for char in range(0,no_letters):\n",
    "    pwd.append(random.choice(letters))\n",
    "for char in range(0,no_symbols):\n",
    "    pwd.append(random.choice(symbols))\n",
    "for char in range(0,no_numbers):\n",
    "    pwd.append(random.choice(numbers))\n",
    "    \n",
    "print(pwd)\n",
    "random.shuffle(pwd)\n",
    "print(pwd)\n",
    "\n",
    "\n",
    "for k in pwd:\n",
    "    print(k,end='')"
   ]
  },
  {
   "cell_type": "code",
   "execution_count": 20,
   "id": "662e5574",
   "metadata": {},
   "outputs": [
    {
     "name": "stdout",
     "output_type": "stream",
     "text": [
      "['1', 'z', 'a', 3]\n"
     ]
    }
   ],
   "source": []
  },
  {
   "cell_type": "code",
   "execution_count": null,
   "id": "30304f9a",
   "metadata": {},
   "outputs": [],
   "source": []
  }
 ],
 "metadata": {
  "kernelspec": {
   "display_name": "Python 3 (ipykernel)",
   "language": "python",
   "name": "python3"
  },
  "language_info": {
   "codemirror_mode": {
    "name": "ipython",
    "version": 3
   },
   "file_extension": ".py",
   "mimetype": "text/x-python",
   "name": "python",
   "nbconvert_exporter": "python",
   "pygments_lexer": "ipython3",
   "version": "3.11.5"
  }
 },
 "nbformat": 4,
 "nbformat_minor": 5
}
