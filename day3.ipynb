{
 "cells": [
  {
   "cell_type": "markdown",
   "id": "5db1356e",
   "metadata": {},
   "source": [
    "## Day 3 - 100 days of python \n",
    "\n",
    "conditional statements, logical operators, code bloacks and scope"
   ]
  },
  {
   "cell_type": "code",
   "execution_count": null,
   "id": "e8aacca2",
   "metadata": {},
   "outputs": [],
   "source": [
    "#conditional statements\n",
    "\"\"\"\n",
    "if condition:\n",
    "    do this if true\n",
    "else:\n",
    "    do this if false\n",
    "\"\"\""
   ]
  },
  {
   "cell_type": "code",
   "execution_count": null,
   "id": "2ec1dcd9",
   "metadata": {},
   "outputs": [],
   "source": [
    "#rollercoaster problem\n",
    "\n",
    "print(\"Welcome to rollercoaster\")\n",
    "Height = int(input(\"enter the height in cm \"))\n",
    "\n",
    "if Height>=120:\n",
    "    print(\"You can ride the rollercoaster\")\n",
    "else:\n",
    "    print(\"Sorry! You have to grow taller before you ride\")\n",
    "        "
   ]
  },
  {
   "cell_type": "code",
   "execution_count": null,
   "id": "7a83760a",
   "metadata": {},
   "outputs": [],
   "source": [
    "#comparison operators - <,>,<=,>=\n",
    "# =  assigning, == checking(lhs = rhs)"
   ]
  },
  {
   "cell_type": "code",
   "execution_count": null,
   "id": "22c1acee",
   "metadata": {},
   "outputs": [],
   "source": [
    "#Problem 1 - Odd or even\n",
    "Number = int(input(\"Enter the number you want to check odd or even ? : \"))\n",
    "\n",
    "if Number%2==0:\n",
    "    print(\"The Number entered is Even\")\n",
    "else:\n",
    "    print(\"The Number entered is odd\")\n",
    "    "
   ]
  },
  {
   "cell_type": "code",
   "execution_count": null,
   "id": "ef70cc83",
   "metadata": {},
   "outputs": [],
   "source": [
    "#nested if and else statements\n",
    "print(\"Welcome to rollercoaster\")\n",
    "Height = int(input(\"enter the height in cm \"))\n",
    "\n",
    "if Height>=120:\n",
    "    print(\"You can ride the rollercoaster\")\n",
    "    age = int(input(\"enter you age\"))\n",
    "    if age<12:\n",
    "        print(\"you have to pay 5$\")\n",
    "    elif  12<=age<= 18:   \n",
    "        print(\"You have to pay 7$\")\n",
    "    else:\n",
    "        print(\"You have to pay 12$\")\n",
    "else:\n",
    "    print(\"Sorry! You have to grow taller before you ride\")\n",
    "        "
   ]
  },
  {
   "cell_type": "code",
   "execution_count": null,
   "id": "0a8fb379",
   "metadata": {},
   "outputs": [],
   "source": [
    "# pROBLEM 3  -  Love Calculator\n",
    "print(\"Welcome to the love calculator\")\n",
    "name1 = input(\"enter your name \")\n",
    "name2 = input(\"enter other person name \")\n",
    "\n",
    "combines_name = name1+name2\n",
    "lower = combines_name.lower()\n",
    "\n",
    "t = lower.count(\"t\")\n",
    "r = lower.count(\"r\")\n",
    "u = lower.count(\"u\")\n",
    "e = lower.count(\"e\")\n",
    "\n",
    "true = t+r+u+e\n",
    "\n",
    "l = lower.count(\"l\")\n",
    "o = lower.count(\"o\")\n",
    "v = lower.count(\"v\")\n",
    "e = lower.count(\"e\")\n",
    "love = l+o+v+e\n",
    "\n",
    "print(\"Your love percentage is {}\". format(str(true)+str(love)))"
   ]
  },
  {
   "cell_type": "code",
   "execution_count": null,
   "id": "7f8d614a",
   "metadata": {},
   "outputs": [],
   "source": []
  },
  {
   "cell_type": "code",
   "execution_count": null,
   "id": "cb6c48b8",
   "metadata": {},
   "outputs": [],
   "source": []
  }
 ],
 "metadata": {
  "kernelspec": {
   "display_name": "Python 3 (ipykernel)",
   "language": "python",
   "name": "python3"
  },
  "language_info": {
   "codemirror_mode": {
    "name": "ipython",
    "version": 3
   },
   "file_extension": ".py",
   "mimetype": "text/x-python",
   "name": "python",
   "nbconvert_exporter": "python",
   "pygments_lexer": "ipython3",
   "version": "3.11.5"
  }
 },
 "nbformat": 4,
 "nbformat_minor": 5
}
