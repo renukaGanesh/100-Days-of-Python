{
 "cells": [
  {
   "cell_type": "markdown",
   "id": "7b5cb317",
   "metadata": {},
   "source": [
    "## Day 4 - 100 days of python"
   ]
  },
  {
   "cell_type": "code",
   "execution_count": 1,
   "id": "a8db4de4",
   "metadata": {},
   "outputs": [],
   "source": [
    "#randomization\n",
    "import random  #able to use random module\n",
    "#each module is responsible for different functionality of the code"
   ]
  },
  {
   "cell_type": "code",
   "execution_count": 4,
   "id": "54a12bc8",
   "metadata": {},
   "outputs": [
    {
     "data": {
      "text/plain": [
       "197"
      ]
     },
     "execution_count": 4,
     "metadata": {},
     "output_type": "execute_result"
    }
   ],
   "source": [
    "#to generate random integer\n",
    "\n",
    "random_integer = random.randint(100,200)#Any one interger between and including those 2 numbers\n",
    "random_integer"
   ]
  },
  {
   "cell_type": "code",
   "execution_count": 6,
   "id": "4a8b3c9a",
   "metadata": {},
   "outputs": [
    {
     "data": {
      "text/plain": [
       "0.22473164410075253"
      ]
     },
     "execution_count": 6,
     "metadata": {},
     "output_type": "execute_result"
    }
   ],
   "source": [
    "#to create random floating point numbers\n",
    "\n",
    "random.random() #by default between 0 and 1. excluding 1. This function only returns between 0 to 1\n"
   ]
  },
  {
   "cell_type": "code",
   "execution_count": 13,
   "id": "178c6560",
   "metadata": {},
   "outputs": [
    {
     "data": {
      "text/plain": [
       "12.738751680379222"
      ]
     },
     "execution_count": 13,
     "metadata": {},
     "output_type": "execute_result"
    }
   ],
   "source": [
    "#how to create random decimal number between the given range\n",
    "\n",
    "random_float = random.uniform(12,15)\n",
    "random_float"
   ]
  },
  {
   "cell_type": "code",
   "execution_count": 19,
   "id": "3a554fdf",
   "metadata": {},
   "outputs": [
    {
     "name": "stdout",
     "output_type": "stream",
     "text": [
      "Tails\n"
     ]
    }
   ],
   "source": [
    "#coin toss program - virtual coin toss\n",
    "\n",
    "import random\n",
    "\n",
    "random_toss = random.randint(0,1)\n",
    "\n",
    "if random_toss == 0:\n",
    "    print(\"Tails\")\n",
    "else:\n",
    "    print(\"Heads\")\n",
    "    \n",
    " "
   ]
  },
  {
   "cell_type": "code",
   "execution_count": 24,
   "id": "859b1c17",
   "metadata": {},
   "outputs": [
    {
     "data": {
      "text/plain": [
       "'cherry'"
      ]
     },
     "execution_count": 24,
     "metadata": {},
     "output_type": "execute_result"
    }
   ],
   "source": [
    "#Python  lists -  it is a data structure\n",
    "#set of sqare brackets with many items stored\n",
    "Fruits= [\"Apple\",\"orange\",\"kiwi\",\"cherry\"]\n",
    "#list indexing. Index starts from 0\n",
    "Fruits[3]"
   ]
  },
  {
   "cell_type": "code",
   "execution_count": 25,
   "id": "e974f4ae",
   "metadata": {},
   "outputs": [],
   "source": [
    "#update/edit the items inside the list\n",
    "Fruits[0] = \"Pineapple\""
   ]
  },
  {
   "cell_type": "code",
   "execution_count": 26,
   "id": "d5c824fb",
   "metadata": {},
   "outputs": [
    {
     "data": {
      "text/plain": [
       "['Pineapple', 'orange', 'kiwi', 'cherry']"
      ]
     },
     "execution_count": 26,
     "metadata": {},
     "output_type": "execute_result"
    }
   ],
   "source": [
    "Fruits"
   ]
  },
  {
   "cell_type": "code",
   "execution_count": null,
   "id": "c6a2af18",
   "metadata": {},
   "outputs": [],
   "source": [
    "#to add more lists to the existing list"
   ]
  },
  {
   "cell_type": "code",
   "execution_count": 27,
   "id": "4bebee59",
   "metadata": {},
   "outputs": [],
   "source": [
    "more_fruits = [\"gooseberry\",\"pappaya\",\"strawberry\"]"
   ]
  },
  {
   "cell_type": "code",
   "execution_count": 29,
   "id": "be7ddcab",
   "metadata": {},
   "outputs": [],
   "source": [
    "Fruits.extend(more_fruits)"
   ]
  },
  {
   "cell_type": "code",
   "execution_count": 30,
   "id": "d14fab3a",
   "metadata": {},
   "outputs": [
    {
     "data": {
      "text/plain": [
       "['Pineapple',\n",
       " 'orange',\n",
       " 'kiwi',\n",
       " 'cherry',\n",
       " 'gooseberry',\n",
       " 'pappaya',\n",
       " 'strawberry']"
      ]
     },
     "execution_count": 30,
     "metadata": {},
     "output_type": "execute_result"
    }
   ],
   "source": [
    "Fruits"
   ]
  },
  {
   "cell_type": "code",
   "execution_count": 32,
   "id": "fdd981c5",
   "metadata": {},
   "outputs": [
    {
     "data": {
      "text/plain": [
       "['Pineapple',\n",
       " 'orange',\n",
       " 'kiwi',\n",
       " 'cherry',\n",
       " 'gooseberry',\n",
       " 'pappaya',\n",
       " 'strawberry',\n",
       " 'watermelon']"
      ]
     },
     "execution_count": 32,
     "metadata": {},
     "output_type": "execute_result"
    }
   ],
   "source": [
    "#to add to existing lists\n",
    "\n",
    "Fruits.append(\"watermelon\")\n",
    "Fruits\n",
    "\n",
    "#refer python documentations for more functions"
   ]
  },
  {
   "cell_type": "code",
   "execution_count": null,
   "id": "800149bd",
   "metadata": {},
   "outputs": [],
   "source": [
    "#Final Project - Rock Paaper scissors\n",
    "\n"
   ]
  },
  {
   "cell_type": "code",
   "execution_count": 35,
   "id": "3a6f1c3a",
   "metadata": {},
   "outputs": [
    {
     "name": "stdout",
     "output_type": "stream",
     "text": [
      "2,3,4,5,6,7\n"
     ]
    }
   ],
   "source": [
    "r = input().strip().split(' ')"
   ]
  },
  {
   "cell_type": "code",
   "execution_count": null,
   "id": "cebd51f9",
   "metadata": {},
   "outputs": [],
   "source": []
  },
  {
   "cell_type": "code",
   "execution_count": null,
   "id": "b622044d",
   "metadata": {},
   "outputs": [],
   "source": []
  }
 ],
 "metadata": {
  "kernelspec": {
   "display_name": "Python 3 (ipykernel)",
   "language": "python",
   "name": "python3"
  },
  "language_info": {
   "codemirror_mode": {
    "name": "ipython",
    "version": 3
   },
   "file_extension": ".py",
   "mimetype": "text/x-python",
   "name": "python",
   "nbconvert_exporter": "python",
   "pygments_lexer": "ipython3",
   "version": "3.11.5"
  }
 },
 "nbformat": 4,
 "nbformat_minor": 5
}
