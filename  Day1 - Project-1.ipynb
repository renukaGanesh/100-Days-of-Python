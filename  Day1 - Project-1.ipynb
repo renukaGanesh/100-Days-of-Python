{
 "cells": [
  {
   "cell_type": "markdown",
   "id": "368c0e17",
   "metadata": {},
   "source": [
    "# Project 1  -  Band Name Generator"
   ]
  },
  {
   "cell_type": "code",
   "execution_count": null,
   "id": "78c5a9f8",
   "metadata": {},
   "outputs": [],
   "source": [
    "print(\"Welcome to the band generator\")\n",
    "Place = input(\"Which city did you grow up\\n\")\n",
    "Pet = input(\"What is the name of the pet\\n\")\n",
    "print(\"your band name could be \" + Place+\" \" +Pet)"
   ]
  },
  {
   "cell_type": "code",
   "execution_count": null,
   "id": "bcae285a",
   "metadata": {},
   "outputs": [],
   "source": []
  },
  {
   "cell_type": "code",
   "execution_count": null,
   "id": "0d280548",
   "metadata": {},
   "outputs": [],
   "source": []
  },
  {
   "cell_type": "code",
   "execution_count": null,
   "id": "2284c68e",
   "metadata": {},
   "outputs": [],
   "source": []
  }
 ],
 "metadata": {
  "kernelspec": {
   "display_name": "Python 3 (ipykernel)",
   "language": "python",
   "name": "python3"
  },
  "language_info": {
   "codemirror_mode": {
    "name": "ipython",
    "version": 3
   },
   "file_extension": ".py",
   "mimetype": "text/x-python",
   "name": "python",
   "nbconvert_exporter": "python",
   "pygments_lexer": "ipython3",
   "version": "3.11.5"
  }
 },
 "nbformat": 4,
 "nbformat_minor": 5
}
