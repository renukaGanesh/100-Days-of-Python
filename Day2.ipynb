{
 "cells": [
  {
   "cell_type": "code",
   "execution_count": 2,
   "id": "5ec7ef8a",
   "metadata": {},
   "outputs": [
    {
     "ename": "TypeError",
     "evalue": "object of type 'int' has no len()",
     "output_type": "error",
     "traceback": [
      "\u001b[1;31m---------------------------------------------------------------------------\u001b[0m",
      "\u001b[1;31mTypeError\u001b[0m                                 Traceback (most recent call last)",
      "Cell \u001b[1;32mIn[2], line 1\u001b[0m\n\u001b[1;32m----> 1\u001b[0m \u001b[38;5;28mprint\u001b[39m(\u001b[38;5;28mlen\u001b[39m(\u001b[38;5;241m1234\u001b[39m))\n",
      "\u001b[1;31mTypeError\u001b[0m: object of type 'int' has no len()"
     ]
    }
   ],
   "source": [
    "print(len(1234))\n"
   ]
  },
  {
   "cell_type": "code",
   "execution_count": 7,
   "id": "947ef5ba",
   "metadata": {},
   "outputs": [
    {
     "name": "stdout",
     "output_type": "stream",
     "text": [
      "o\n"
     ]
    }
   ],
   "source": [
    "#Datatypes - string, integer,float and boolean\n",
    "#strings\n",
    "\n",
    "\"Hello\"[0] #first character of the string.Prints out the first index position that is H\n",
    "\n",
    "print(\"Hello\"[4])  #4 or -1\n",
    "\n",
    "\n"
   ]
  },
  {
   "cell_type": "code",
   "execution_count": 8,
   "id": "593bf6de",
   "metadata": {},
   "outputs": [
    {
     "data": {
      "text/plain": [
       "'123456'"
      ]
     },
     "execution_count": 8,
     "metadata": {},
     "output_type": "execute_result"
    }
   ],
   "source": [
    "\"123\"+\"456\" #string concatenation beacuse of strings instead of  numericaloperation"
   ]
  },
  {
   "cell_type": "code",
   "execution_count": 9,
   "id": "37fa8b16",
   "metadata": {},
   "outputs": [
    {
     "name": "stdout",
     "output_type": "stream",
     "text": [
      "246\n"
     ]
    }
   ],
   "source": [
    "#to delcare integer\n",
    "print(123+123)"
   ]
  },
  {
   "cell_type": "code",
   "execution_count": 12,
   "id": "626512b7",
   "metadata": {},
   "outputs": [
    {
     "data": {
      "text/plain": [
       "3.14"
      ]
     },
     "execution_count": 12,
     "metadata": {},
     "output_type": "execute_result"
    }
   ],
   "source": [
    "#large numbers are the numbers with comma, in python it is done by underscore\n",
    "\n",
    "#float\n",
    "\n",
    "3.14"
   ]
  },
  {
   "cell_type": "code",
   "execution_count": 13,
   "id": "ddf4f8c3",
   "metadata": {},
   "outputs": [
    {
     "data": {
      "text/plain": [
       "False"
      ]
     },
     "execution_count": 13,
     "metadata": {},
     "output_type": "execute_result"
    }
   ],
   "source": [
    "#boolean - 2 possible values - true or false\n",
    "True \n",
    "False"
   ]
  },
  {
   "cell_type": "code",
   "execution_count": 14,
   "id": "b494d7d4",
   "metadata": {},
   "outputs": [
    {
     "ename": "TypeError",
     "evalue": "object of type 'int' has no len()",
     "output_type": "error",
     "traceback": [
      "\u001b[1;31m---------------------------------------------------------------------------\u001b[0m",
      "\u001b[1;31mTypeError\u001b[0m                                 Traceback (most recent call last)",
      "Cell \u001b[1;32mIn[14], line 1\u001b[0m\n\u001b[1;32m----> 1\u001b[0m \u001b[38;5;28mlen\u001b[39m(\u001b[38;5;241m123\u001b[39m)\n",
      "\u001b[1;31mTypeError\u001b[0m: object of type 'int' has no len()"
     ]
    }
   ],
   "source": [
    "len(123)  #Typeerror - integer data type don't have length function\n"
   ]
  },
  {
   "cell_type": "code",
   "execution_count": 15,
   "id": "43f520f1",
   "metadata": {},
   "outputs": [
    {
     "data": {
      "text/plain": [
       "str"
      ]
     },
     "execution_count": 15,
     "metadata": {},
     "output_type": "execute_result"
    }
   ],
   "source": [
    "#type function check the type of data \n",
    "\n",
    "type(\"Hello\")"
   ]
  },
  {
   "cell_type": "code",
   "execution_count": 16,
   "id": "e19853bb",
   "metadata": {},
   "outputs": [
    {
     "data": {
      "text/plain": [
       "int"
      ]
     },
     "execution_count": 16,
     "metadata": {},
     "output_type": "execute_result"
    }
   ],
   "source": [
    "type(1)"
   ]
  },
  {
   "cell_type": "code",
   "execution_count": 17,
   "id": "c4fcf5f1",
   "metadata": {},
   "outputs": [
    {
     "data": {
      "text/plain": [
       "float"
      ]
     },
     "execution_count": 17,
     "metadata": {},
     "output_type": "execute_result"
    }
   ],
   "source": [
    "type(3.14)"
   ]
  },
  {
   "cell_type": "code",
   "execution_count": 18,
   "id": "2e4cee45",
   "metadata": {},
   "outputs": [
    {
     "data": {
      "text/plain": [
       "bool"
      ]
     },
     "execution_count": 18,
     "metadata": {},
     "output_type": "execute_result"
    }
   ],
   "source": [
    "type(True)"
   ]
  },
  {
   "cell_type": "code",
   "execution_count": 19,
   "id": "42dd902e",
   "metadata": {},
   "outputs": [
    {
     "name": "stdout",
     "output_type": "stream",
     "text": [
      "Enter the name : Renuka\n",
      "Your name has 6 characters\n"
     ]
    }
   ],
   "source": [
    "#type casting - we change piece of data from one type to another type\n",
    "num_char = len(input(\"Enter the name : \"))\n",
    "\n",
    "length = str(num_char)\n",
    "\n",
    "print(\"Your name has {} characters\".format(length))"
   ]
  },
  {
   "cell_type": "code",
   "execution_count": 22,
   "id": "653ab922",
   "metadata": {},
   "outputs": [
    {
     "name": "stdout",
     "output_type": "stream",
     "text": [
      "Enter the two digit number23\n",
      "5\n"
     ]
    }
   ],
   "source": [
    "#code challenge 1\n",
    "\n",
    "# where 2 digit number will be taken as input and outputs the sum of those 2 digit number\n",
    "\n",
    "two_digit_number = input(\"Enter the two digit number\")\n",
    "print(int(two_digit_number[0]) + int(two_digit_number[1]))\n"
   ]
  },
  {
   "cell_type": "code",
   "execution_count": 23,
   "id": "ce41a9a8",
   "metadata": {},
   "outputs": [
    {
     "name": "stdout",
     "output_type": "stream",
     "text": [
      "5\n",
      "1\n",
      "6\n",
      "1.5\n",
      "9\n"
     ]
    }
   ],
   "source": [
    "#Mathematical operations\n",
    "#addition\n",
    "print(3+2)\n",
    "#subtraction \n",
    "print(3-2)\n",
    "#multiplication\n",
    "print(3*2)\n",
    "#division\n",
    "print(3/2)\n",
    "#power/exponential\n",
    "print(3**2)\n",
    "\n",
    "#PEMDAS - order of priority"
   ]
  },
  {
   "cell_type": "code",
   "execution_count": 27,
   "id": "800be3c1",
   "metadata": {},
   "outputs": [
    {
     "name": "stdout",
     "output_type": "stream",
     "text": [
      "enter your height in m : 1.75\n",
      "enter your weight on kg: 80\n",
      "26.122448979591837\n",
      "Your BMI is 26\n"
     ]
    }
   ],
   "source": [
    "#BMI Calculator\n",
    "Height = input(\"enter your height in m : \")\n",
    "Weight = input(\"enter your weight on kg: \")\n",
    "\n",
    "BMI = float(Weight)/float(Height)**2\n",
    "print(BMI)\n",
    "print(\"Your BMI is {}\".format(int(BMI)))"
   ]
  },
  {
   "cell_type": "code",
   "execution_count": 31,
   "id": "41a12c33",
   "metadata": {},
   "outputs": [
    {
     "name": "stdout",
     "output_type": "stream",
     "text": [
      "3\n",
      "2.7\n",
      "2.67\n"
     ]
    }
   ],
   "source": [
    "#rounding digits\n",
    "print(round(8/3))\n",
    "print(round(8/3,1))\n",
    "print(round(8/3,2))"
   ]
  },
  {
   "cell_type": "code",
   "execution_count": 32,
   "id": "f5f059f4",
   "metadata": {},
   "outputs": [
    {
     "name": "stdout",
     "output_type": "stream",
     "text": [
      "Hi ! My name is Renuka and I am from India\n"
     ]
    }
   ],
   "source": [
    "#f strings\n",
    "\n",
    "Name = \"Renuka\"\n",
    "country = \"India\"\n",
    "print(f\"Hi ! My name is {Name} and I am from {country}\")"
   ]
  },
  {
   "cell_type": "code",
   "execution_count": 1,
   "id": "7c545313",
   "metadata": {},
   "outputs": [
    {
     "name": "stdout",
     "output_type": "stream",
     "text": [
      "Welcome to the tip calculator\n",
      "what was the total bill? $124.56\n",
      "what percentage of tip would you like to give ? 10,12 or 15 ? 12\n",
      "How many people to split the bill? 7\n",
      "each person should pay : $19.93\n"
     ]
    }
   ],
   "source": [
    "#Day 2 Project\n",
    "\n",
    "print(\"Welcome to the tip calculator\")\n",
    "total_bill = input(\"what was the total bill? $\")\n",
    "percentage_tip = int(input(\"what percentage of tip would you like to give ? 10,12 or 15 ? \"))\n",
    "total_people = int(input(\"How many people to split the bill? \"))\n",
    "\n",
    "percentage_of_total  = float(total_bill)*(percentage_tip/100)\n",
    "\n",
    "total_percentage = float(total_bill)+percentage_of_total\n",
    "\n",
    "each_pay = total_percentage/total_people\n",
    "\n",
    "print(\"each person should pay : ${}\".format(round(each_pay,2)))"
   ]
  },
  {
   "cell_type": "code",
   "execution_count": null,
   "id": "f1a7325f",
   "metadata": {},
   "outputs": [],
   "source": []
  }
 ],
 "metadata": {
  "kernelspec": {
   "display_name": "Python 3 (ipykernel)",
   "language": "python",
   "name": "python3"
  },
  "language_info": {
   "codemirror_mode": {
    "name": "ipython",
    "version": 3
   },
   "file_extension": ".py",
   "mimetype": "text/x-python",
   "name": "python",
   "nbconvert_exporter": "python",
   "pygments_lexer": "ipython3",
   "version": "3.11.5"
  }
 },
 "nbformat": 4,
 "nbformat_minor": 5
}
